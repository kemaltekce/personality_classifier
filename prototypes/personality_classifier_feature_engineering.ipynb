{
 "cells": [
  {
   "cell_type": "code",
   "execution_count": 1,
   "metadata": {},
   "outputs": [],
   "source": [
    "%load_ext autoreload\n",
    "%autoreload 2\n",
    "import sys\n",
    "sys.path.insert(0, '../')"
   ]
  },
  {
   "cell_type": "markdown",
   "metadata": {},
   "source": [
    "## pipeline system"
   ]
  },
  {
   "cell_type": "code",
   "execution_count": 454,
   "metadata": {},
   "outputs": [],
   "source": [
    "from sklearn.linear_model import LogisticRegression\n",
    "from sklearn.feature_extraction.text import TfidfVectorizer\n",
    "from sklearn.pipeline import Pipeline as ModelPipeline, FeatureUnion\n",
    "from sklearn.preprocessing import StandardScaler, MinMaxScaler\n",
    "\n",
    "from hatstall.pipes import Pipeline as CustomPipeline, PipelineSystem\n",
    "from hatstall.pipes.engineer import PostsJoiner, AverageWordCalculator, Debugger\n",
    "from hatstall.pipes.model import Evaluator, TestDataTokenChecker\n",
    "from hatstall.pipes.loader import PersonalityPostLoader\n",
    "from hatstall.pipes.preparator import (\n",
    "    PostsSplitter, EvenlyDistributor, TrainTestSplitter, DigitReplacer, LinkReplacer,\n",
    "    PersonalityCodeReplacer)"
   ]
  },
  {
   "cell_type": "code",
   "execution_count": 461,
   "metadata": {},
   "outputs": [
    {
     "name": "stdout",
     "output_type": "stream",
     "text": [
      "--- Running preparation pipeline ---\n",
      "Running loader pipe --> PersonalityPostLoader\n",
      "Running splitter pipe --> PostsSplitter\n",
      "Ignored 5624 texts because of too small chunks\n",
      "Running persona pipe --> PersonalityCodeReplacer\n",
      "Running evenfier pipe --> EvenlyDistributor\n",
      "Running traintest pipe --> TrainTestSplitter\n",
      "Train size: Counter({'Introvert': 6728, 'Extrovert': 6727})\n",
      "Test size: Counter({'Extrovert': 2884, 'Introvert': 2883})\n",
      "--- Running modelling pipeline ---\n",
      "--- Running evaluation pipeline ---\n",
      "Running eval pipe --> Evaluator\n",
      "0.6200797641754812\n",
      "[0.62412078 0.61595092]\n",
      "[[1819 1064]\n",
      " [1127 1757]]\n"
     ]
    }
   ],
   "source": [
    "PreparationPipeline = CustomPipeline\n",
    "EvaluationPipeline = CustomPipeline\n",
    "\n",
    "psystem = PipelineSystem([\n",
    "    ('preperation', PreparationPipeline([\n",
    "        ('loader', PersonalityPostLoader),\n",
    "        ('splitter', PostsSplitter),\n",
    "        ('persona', PersonalityCodeReplacer),\n",
    "        ('evenfier', EvenlyDistributor),\n",
    "        ('traintest', TrainTestSplitter)\n",
    "    ])),\n",
    "    ('modelling', ModelPipeline([\n",
    "        ('joiner', PostsJoiner()),\n",
    "        ('vect', TfidfVectorizer(max_df=1., min_df=0.01)),\n",
    "        ('log', LogisticRegression(random_state=123)),\n",
    "    ])),\n",
    "    ('evaluation', EvaluationPipeline([\n",
    "        ('eval', Evaluator)\n",
    "    ]))\n",
    "], mode='train_test')\n",
    "psystem.run()"
   ]
  },
  {
   "cell_type": "code",
   "execution_count": 468,
   "metadata": {},
   "outputs": [
    {
     "name": "stdout",
     "output_type": "stream",
     "text": [
      "--- Running preparation pipeline ---\n",
      "Running loader pipe --> PersonalityPostLoader\n",
      "Running splitter pipe --> PostsSplitter\n",
      "Ignored 5624 texts because of too small chunks\n",
      "Running persona pipe --> PersonalityCodeReplacer\n",
      "Running link pipe --> LinkReplacer\n",
      "Running digit pipe --> DigitReplacer\n",
      "Running evenfier pipe --> EvenlyDistributor\n",
      "Running traintest pipe --> TrainTestSplitter\n",
      "Train size: Counter({'Introvert': 6728, 'Extrovert': 6727})\n",
      "Test size: Counter({'Extrovert': 2884, 'Introvert': 2883})\n",
      "--- Running modelling pipeline ---\n",
      "--- Running evaluation pipeline ---\n",
      "Running eval pipe --> Evaluator\n",
      "0.623547771805098\n",
      "[0.62691184 0.62012248]\n",
      "[[1824 1059]\n",
      " [1112 1772]]\n"
     ]
    }
   ],
   "source": [
    "# PreparationPipeline = CustomPipeline\n",
    "EvaluationPipeline = CustomPipeline\n",
    "\n",
    "psystem = PipelineSystem([\n",
    "    ('preperation', PreparationPipeline([\n",
    "        ('loader', PersonalityPostLoader),\n",
    "        ('splitter', PostsSplitter),\n",
    "        ('persona', PersonalityCodeReplacer),\n",
    "        ('link', LinkReplacer),\n",
    "        ('digit', DigitReplacer), \n",
    "        ('evenfier', EvenlyDistributor),\n",
    "        ('traintest', TrainTestSplitter)\n",
    "    ])),\n",
    "    ('modelling', ModelPipeline([\n",
    "        ('features', FeatureUnion([\n",
    "            ('token', ModelPipeline([\n",
    "                ('joiner', PostsJoiner()),\n",
    "                ('vect', TfidfVectorizer(\n",
    "                    max_df=1.0, min_df=0.01,\n",
    "                    token_pattern='(?u)\\\\$?\\\\b\\\\w\\\\w+\\\\b')),\n",
    "            ])),\n",
    "            ('mean_word', ModelPipeline([\n",
    "                ('average', AverageWordCalculator()),\n",
    "                ('scaler', MinMaxScaler())\n",
    "            ])),\n",
    "        ])),\n",
    "        ('log', LogisticRegression(random_state=123)),\n",
    "    ])),\n",
    "    ('evaluation', EvaluationPipeline([\n",
    "#        ('token_checker', TestDataTokenChecker),\n",
    "        ('eval', Evaluator)\n",
    "    ]))\n",
    "], mode='train_test')\n",
    "psystem.run()"
   ]
  },
  {
   "cell_type": "markdown",
   "metadata": {},
   "source": [
    "## feature chi analysis\n",
    "\n",
    "todo\n",
    "- better pipeline naming"
   ]
  },
  {
   "cell_type": "code",
   "execution_count": 469,
   "metadata": {},
   "outputs": [],
   "source": [
    "from sklearn.feature_selection import chi2\n",
    "\n",
    "pipeline = psystem.pipelines[2]\n",
    "X, y, _, _ = pipeline.pipeline.payload['train_test']\n",
    "\n",
    "model = pipeline.pipeline.payload['model']\n",
    "matrix = model.named_steps['features'].transform(X)\n",
    "\n",
    "feature_pipe = model.named_steps['features']\n",
    "token_pipe = [x for x in feature_pipe.transformer_list if x[0] == 'token'][0][1]\n",
    "feature_names = token_pipe.named_steps['vect'].get_feature_names()\n",
    "feature_names = feature_names + ['$average_word_count']\n",
    "\n",
    "chi = chi2(matrix, y)"
   ]
  },
  {
   "cell_type": "code",
   "execution_count": 470,
   "metadata": {},
   "outputs": [
    {
     "data": {
      "text/plain": [
       "<matplotlib.axes._subplots.AxesSubplot at 0x1a13538320>"
      ]
     },
     "execution_count": 470,
     "metadata": {},
     "output_type": "execute_result"
    },
    {
     "data": {
      "image/png": "[encoded data removed]",
      "text/plain": [
       "<Figure size 864x576 with 1 Axes>"
      ]
     },
     "metadata": {},
     "output_type": "display_data"
    }
   ],
   "source": [
    "chidf = pd.DataFrame({'chi': chi[0], 'feature': feature_names})\n",
    "chidf.sort_values('chi', ascending=False, inplace=True)\n",
    "chidf.iloc[:20].iloc[::-1].plot(x='feature', y='chi', kind='barh', figsize=(12, 8))"
   ]
  },
  {
   "cell_type": "code",
   "execution_count": null,
   "metadata": {},
   "outputs": [],
   "source": []
  }
 ],
 "metadata": {
  "kernelspec": {
   "display_name": "Python 3",
   "language": "python",
   "name": "python3"
  },
  "language_info": {
   "codemirror_mode": {
    "name": "ipython",
    "version": 3
   },
   "file_extension": ".py",
   "mimetype": "text/x-python",
   "name": "python",
   "nbconvert_exporter": "python",
   "pygments_lexer": "ipython3",
   "version": "3.6.3"
  }
 },
 "nbformat": 4,
 "nbformat_minor": 2
}
