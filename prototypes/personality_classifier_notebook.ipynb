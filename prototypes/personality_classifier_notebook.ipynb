{
 "cells": [
  {
   "cell_type": "markdown",
   "metadata": {},
   "source": [
    "# Personality Classifier Notebook"
   ]
  },
  {
   "cell_type": "markdown",
   "metadata": {},
   "source": [
    "## Notebook Default Imports"
   ]
  },
  {
   "cell_type": "code",
   "execution_count": 1,
   "metadata": {},
   "outputs": [],
   "source": [
    "%load_ext autoreload\n",
    "%autoreload 2\n",
    "import sys\n",
    "sys.path.insert(0, '../')\n",
    "sys.path.insert(0, '../hatstall/')"
   ]
  },
  {
   "cell_type": "markdown",
   "metadata": {},
   "source": [
    "## Pipeline System"
   ]
  },
  {
   "cell_type": "markdown",
   "metadata": {},
   "source": [
    "### Pipeline Imports"
   ]
  },
  {
   "cell_type": "code",
   "execution_count": 2,
   "metadata": {},
   "outputs": [],
   "source": [
    "import pandas as pd\n",
    "\n",
    "from sklearn.linear_model import LogisticRegression\n",
    "from sklearn.feature_extraction.text import TfidfVectorizer\n",
    "from sklearn.pipeline import Pipeline as ModelPipeline, FeatureUnion\n",
    "from sklearn.preprocessing import StandardScaler, MinMaxScaler\n",
    "\n",
    "from hatstall.pipes import Pipeline as CustomPipeline, PipelineSystem\n",
    "from hatstall.pipes.engineer import PostsJoiner, AverageWordCalculator, Debugger\n",
    "from hatstall.pipes.model import Evaluator, Predictor\n",
    "from hatstall.pipes.loader import PersonalityPostLoader, PredictionDataLoader\n",
    "from hatstall.pipes.preparator import (\n",
    "    PostsSplitter, EvenlyDistributor, TrainTestSplitter, DigitReplacer, LinkReplacer,\n",
    "    PersonalityCodeReplacer)"
   ]
  },
  {
   "cell_type": "markdown",
   "metadata": {},
   "source": [
    "### Base Pipeline System"
   ]
  },
  {
   "cell_type": "code",
   "execution_count": 3,
   "metadata": {},
   "outputs": [
    {
     "name": "stdout",
     "output_type": "stream",
     "text": [
      "--- Running preparation pipeline ---\n",
      "Running loader pipe --> PersonalityPostLoader\n",
      "Running splitter pipe --> PostsSplitter\n",
      "Ignored 5624 texts because of too small chunks\n",
      "Running persona pipe --> PersonalityCodeReplacer\n",
      "Running evenfier pipe --> EvenlyDistributor\n",
      "Running traintest pipe --> TrainTestSplitter\n",
      "Train size: Counter({'Introvert': 6728, 'Extrovert': 6727})\n",
      "Test size: Counter({'Extrovert': 2884, 'Introvert': 2883})\n",
      "--- Running modelling pipeline ---\n",
      "--- Running evaluation pipeline ---\n",
      "Running eval pipe --> Evaluator\n",
      "0.6197329634125195\n",
      "[0.6246791  0.61465472]\n",
      "[[1825 1058]\n",
      " [1135 1749]]\n"
     ]
    }
   ],
   "source": [
    "PreparationPipeline = CustomPipeline\n",
    "EvaluationPipeline = CustomPipeline\n",
    "\n",
    "psystem = PipelineSystem([\n",
    "    ('preperation', PreparationPipeline([\n",
    "        ('loader', PersonalityPostLoader),\n",
    "        ('splitter', PostsSplitter),\n",
    "        ('persona', PersonalityCodeReplacer),\n",
    "        ('evenfier', EvenlyDistributor),\n",
    "        ('traintest', TrainTestSplitter)\n",
    "    ])),\n",
    "    ('modelling', ModelPipeline([\n",
    "        ('joiner', PostsJoiner()),\n",
    "        ('vect', TfidfVectorizer(max_df=1., min_df=0.01)),\n",
    "        ('log', LogisticRegression(random_state=123)),\n",
    "    ])),\n",
    "    ('evaluation', EvaluationPipeline([\n",
    "        ('eval', Evaluator)\n",
    "    ]))\n",
    "])\n",
    "psystem.run()"
   ]
  },
  {
   "cell_type": "markdown",
   "metadata": {},
   "source": [
    "### Advanced Pipeline System"
   ]
  },
  {
   "cell_type": "code",
   "execution_count": 4,
   "metadata": {},
   "outputs": [
    {
     "name": "stdout",
     "output_type": "stream",
     "text": [
      "--- Running preparation pipeline ---\n",
      "Running loader pipe --> PersonalityPostLoader\n",
      "Running splitter pipe --> PostsSplitter\n",
      "Ignored 5624 texts because of too small chunks\n",
      "Running persona pipe --> PersonalityCodeReplacer\n",
      "Running link pipe --> LinkReplacer\n",
      "Running digit pipe --> DigitReplacer\n",
      "Running evenfier pipe --> EvenlyDistributor\n",
      "Running traintest pipe --> TrainTestSplitter\n",
      "Train size: Counter({'Introvert': 6728, 'Extrovert': 6727})\n",
      "Test size: Counter({'Extrovert': 2884, 'Introvert': 2883})\n",
      "--- Running modelling pipeline ---\n",
      "--- Running evaluation pipeline ---\n",
      "Running eval pipe --> Evaluator\n",
      "0.6254551760013872\n",
      "[0.6268141  0.62408632]\n",
      "[[1814 1069]\n",
      " [1091 1793]]\n"
     ]
    }
   ],
   "source": [
    "PreparationPipeline = CustomPipeline\n",
    "EvaluationPipeline = CustomPipeline\n",
    "\n",
    "psystem = PipelineSystem([\n",
    "    ('preperation', PreparationPipeline([\n",
    "        ('loader', PersonalityPostLoader),\n",
    "        ('splitter', PostsSplitter),\n",
    "        ('persona', PersonalityCodeReplacer),\n",
    "        ('link', LinkReplacer),\n",
    "        ('digit', DigitReplacer), \n",
    "        ('evenfier', EvenlyDistributor),\n",
    "        ('traintest', TrainTestSplitter)\n",
    "    ])),\n",
    "    ('modelling', ModelPipeline([\n",
    "        ('features', FeatureUnion([\n",
    "            ('token', ModelPipeline([\n",
    "                ('joiner', PostsJoiner()),\n",
    "                ('vect', TfidfVectorizer(\n",
    "                    max_df=1.0, min_df=0.01,\n",
    "                    token_pattern='(?u)\\\\$?\\\\b\\\\w\\\\w+\\\\b')),\n",
    "            ])),\n",
    "            ('mean_word', ModelPipeline([\n",
    "                ('average', AverageWordCalculator()),\n",
    "                ('scaler', MinMaxScaler())\n",
    "            ])),\n",
    "        ])),\n",
    "        ('log', LogisticRegression(random_state=123)),\n",
    "    ])),\n",
    "    ('evaluation', EvaluationPipeline([\n",
    "        ('eval', Evaluator)\n",
    "    ]))\n",
    "])\n",
    "psystem.run()"
   ]
  },
  {
   "cell_type": "markdown",
   "metadata": {},
   "source": [
    "## Feature Chi Analysis"
   ]
  },
  {
   "cell_type": "code",
   "execution_count": 5,
   "metadata": {},
   "outputs": [],
   "source": [
    "from sklearn.feature_selection import chi2\n",
    "\n",
    "pl_container = psystem.pipeline_containers[2]\n",
    "X, y, _, _ = pl_container.pipeline.payload['train_test']\n",
    "\n",
    "model = pl_container.pipeline.payload['model']\n",
    "matrix = model.named_steps['features'].transform(X)\n",
    "\n",
    "feature_pipe = model.named_steps['features']\n",
    "token_pipe = [x for x in feature_pipe.transformer_list if x[0] == 'token'][0][1]\n",
    "feature_names = token_pipe.named_steps['vect'].get_feature_names()\n",
    "feature_names = feature_names + ['$average_word_count']\n",
    "\n",
    "chi = chi2(matrix, y)"
   ]
  },
  {
   "cell_type": "code",
   "execution_count": 8,
   "metadata": {},
   "outputs": [
    {
     "data": {
      "text/plain": [
       "<matplotlib.axes._subplots.AxesSubplot at 0x111982780>"
      ]
     },
     "execution_count": 8,
     "metadata": {},
     "output_type": "execute_result"
    },
    {
     "data": {
      "image/png": "[encoded data removed]",
      "text/plain": [
       "<Figure size 864x576 with 1 Axes>"
      ]
     },
     "metadata": {},
     "output_type": "display_data"
    }
   ],
   "source": [
    "chidf = pd.DataFrame({'chi': chi[0], 'feature': feature_names})\n",
    "chidf.sort_values('chi', ascending=False, inplace=True)\n",
    "chidf.iloc[:20].iloc[::-1].plot(x='feature', y='chi', kind='barh', figsize=(12, 8))"
   ]
  },
  {
   "cell_type": "markdown",
   "metadata": {},
   "source": [
    "## Predicting Own Example Posts"
   ]
  },
  {
   "cell_type": "code",
   "execution_count": 7,
   "metadata": {},
   "outputs": [
    {
     "name": "stdout",
     "output_type": "stream",
     "text": [
      "--- Running preparation pipeline ---\n",
      "Running loader pipe --> PersonalityPostLoader\n",
      "Running splitter pipe --> PostsSplitter\n",
      "Ignored 5624 texts because of too small chunks\n",
      "Running link pipe --> LinkReplacer\n",
      "Running digit pipe --> DigitReplacer\n",
      "Running evenfier pipe --> EvenlyDistributor\n",
      "Running traintest pipe --> TrainTestSplitter\n",
      "Train size: Counter({'Introvert': 6728, 'Extrovert': 6727})\n",
      "Test size: Counter({'Extrovert': 2884, 'Introvert': 2883})\n",
      "--- Running modelling pipeline ---\n",
      "--- Running evaluation pipeline ---\n",
      "Running eval pipe --> Evaluator\n",
      "0.7144095717010578\n",
      "[0.72296047 0.70531401]\n",
      "[[2149  734]\n",
      " [ 913 1971]]\n",
      "--- Running prediction pipeline ---\n",
      "Running loader pipe --> PredictionDataLoader\n",
      "Running link pipe --> LinkReplacer\n",
      "Running digit pipe --> DigitReplacer\n",
      "Running predictor pipe --> Predictor\n",
      "--- Here are the predictions ---\n",
      "kemal is an Introvert\n",
      "kiki is an Extrovert\n"
     ]
    }
   ],
   "source": [
    "PreparationPipeline = CustomPipeline\n",
    "EvaluationPipeline = CustomPipeline\n",
    "PredictionPipeline = CustomPipeline\n",
    "\n",
    "psystem = PipelineSystem([\n",
    "    ('preperation', PreparationPipeline([\n",
    "        ('loader', PersonalityPostLoader),\n",
    "        ('splitter', PostsSplitter),\n",
    "        #('persona', PersonalityCodeReplacer),\n",
    "        ('link', LinkReplacer),\n",
    "        ('digit', DigitReplacer), \n",
    "        ('evenfier', EvenlyDistributor),\n",
    "        ('traintest', TrainTestSplitter)\n",
    "    ])),\n",
    "    ('modelling', ModelPipeline([\n",
    "        ('features', FeatureUnion([\n",
    "            ('token', ModelPipeline([\n",
    "                ('joiner', PostsJoiner()),\n",
    "                ('vect', TfidfVectorizer(\n",
    "                    max_df=1.0, min_df=0.01,\n",
    "                    token_pattern='(?u)\\\\$?\\\\b\\\\w\\\\w+\\\\b')),\n",
    "            ])),\n",
    "            ('mean_word', ModelPipeline([\n",
    "                ('average', AverageWordCalculator()),\n",
    "                ('scaler', MinMaxScaler())\n",
    "            ])),\n",
    "        ])),\n",
    "        ('log', LogisticRegression(random_state=123)),\n",
    "    ])),\n",
    "    ('evaluation', EvaluationPipeline([\n",
    "        ('eval', Evaluator)\n",
    "    ])),\n",
    "    ('prediction', PredictionPipeline([\n",
    "        ('loader', PredictionDataLoader),\n",
    "        ('link', LinkReplacer),\n",
    "        ('digit', DigitReplacer),\n",
    "        ('predictor', Predictor),\n",
    "    ])),\n",
    "])\n",
    "psystem.run()"
   ]
  },
  {
   "cell_type": "code",
   "execution_count": null,
   "metadata": {},
   "outputs": [],
   "source": []
  }
 ],
 "metadata": {
  "kernelspec": {
   "display_name": "Python 3",
   "language": "python",
   "name": "python3"
  },
  "language_info": {
   "codemirror_mode": {
    "name": "ipython",
    "version": 3
   },
   "file_extension": ".py",
   "mimetype": "text/x-python",
   "name": "python",
   "nbconvert_exporter": "python",
   "pygments_lexer": "ipython3",
   "version": "3.6.3"
  }
 },
 "nbformat": 4,
 "nbformat_minor": 2
}
